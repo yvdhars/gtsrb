{
  "nbformat": 4,
  "nbformat_minor": 0,
  "metadata": {
    "colab": {
      "name": "GTSRB.ipynb",
      "provenance": [],
      "collapsed_sections": []
    },
    "kernelspec": {
      "name": "python3",
      "display_name": "Python 3"
    },
    "accelerator": "GPU"
  },
  "cells": [
    {
      "cell_type": "markdown",
      "metadata": {
        "id": "7IK6liLNDYRt"
      },
      "source": [
        "#### import required libraries"
      ]
    },
    {
      "cell_type": "code",
      "metadata": {
        "id": "t08OknDTo64F",
        "colab": {
          "base_uri": "https://localhost:8080/",
          "height": 34
        },
        "outputId": "0557cebe-d198-4822-f602-b5b3843e522e"
      },
      "source": [
        "# load required libraries\n",
        "%tensorflow_version 1.x\n",
        "import pandas as pd\n",
        "import numpy as np\n",
        "import matplotlib.pyplot as plt\n",
        "import tensorflow as tf"
      ],
      "execution_count": null,
      "outputs": [
        {
          "output_type": "stream",
          "text": [
            "TensorFlow 1.x selected.\n"
          ],
          "name": "stdout"
        }
      ]
    },
    {
      "cell_type": "code",
      "metadata": {
        "id": "-HQgHj8nz_k7",
        "colab": {
          "base_uri": "https://localhost:8080/",
          "height": 35
        },
        "outputId": "20616dcd-782b-4514-ab84-084ac840f162"
      },
      "source": [
        "tf.__version__"
      ],
      "execution_count": null,
      "outputs": [
        {
          "output_type": "execute_result",
          "data": {
            "application/vnd.google.colaboratory.intrinsic+json": {
              "type": "string"
            },
            "text/plain": [
              "'1.15.2'"
            ]
          },
          "metadata": {
            "tags": []
          },
          "execution_count": 2
        }
      ]
    },
    {
      "cell_type": "code",
      "metadata": {
        "id": "4n5ooAfny_wL",
        "colab": {
          "base_uri": "https://localhost:8080/",
          "height": 34
        },
        "outputId": "2edb2a9f-c776-4132-82b8-465c5709cef0"
      },
      "source": [
        "from keras.utils import np_utils\n",
        "from keras.models import Sequential,Model,Input\n",
        "from keras.layers import Dense,Activation,Dropout,Flatten,Convolution2D,MaxPooling2D,Conv2D,MaxPool2D"
      ],
      "execution_count": null,
      "outputs": [
        {
          "output_type": "stream",
          "text": [
            "Using TensorFlow backend.\n"
          ],
          "name": "stderr"
        }
      ]
    },
    {
      "cell_type": "code",
      "metadata": {
        "id": "rrWyUsZXewCB",
        "colab": {
          "base_uri": "https://localhost:8080/",
          "height": 34
        },
        "outputId": "f7ba3252-039d-4408-f103-581919ec4c3f"
      },
      "source": [
        "from google.colab import drive\n",
        "drive.mount('/drive')\n",
        "import os\n",
        "os.chdir('/drive/My Drive/deep_learning')"
      ],
      "execution_count": null,
      "outputs": [
        {
          "output_type": "stream",
          "text": [
            "Drive already mounted at /drive; to attempt to forcibly remount, call drive.mount(\"/drive\", force_remount=True).\n"
          ],
          "name": "stdout"
        }
      ]
    },
    {
      "cell_type": "markdown",
      "metadata": {
        "id": "e-92V17rBus4"
      },
      "source": [
        "#### Read dataset - available information on the traffic sign images"
      ]
    },
    {
      "cell_type": "code",
      "metadata": {
        "id": "oSPCueWdojFP"
      },
      "source": [
        "# load the dataset\n",
        "#import io\n",
        "df = pd.read_csv('GSTRB.csv')"
      ],
      "execution_count": null,
      "outputs": []
    },
    {
      "cell_type": "code",
      "metadata": {
        "id": "7pCACCkKu4vo",
        "colab": {
          "base_uri": "https://localhost:8080/",
          "height": 270
        },
        "outputId": "06fd663c-d347-4998-adcb-b049680a05bf"
      },
      "source": [
        "# check the list of variables and few images data. in this example, variables names\n",
        "# are masked and termed as 1, 2, 3, etc.\n",
        "df.head()"
      ],
      "execution_count": null,
      "outputs": [
        {
          "output_type": "execute_result",
          "data": {
            "text/html": [
              "<div>\n",
              "<style scoped>\n",
              "    .dataframe tbody tr th:only-of-type {\n",
              "        vertical-align: middle;\n",
              "    }\n",
              "\n",
              "    .dataframe tbody tr th {\n",
              "        vertical-align: top;\n",
              "    }\n",
              "\n",
              "    .dataframe thead th {\n",
              "        text-align: right;\n",
              "    }\n",
              "</style>\n",
              "<table border=\"1\" class=\"dataframe\">\n",
              "  <thead>\n",
              "    <tr style=\"text-align: right;\">\n",
              "      <th></th>\n",
              "      <th>Unnamed: 0</th>\n",
              "      <th>0</th>\n",
              "      <th>1</th>\n",
              "      <th>2</th>\n",
              "      <th>3</th>\n",
              "      <th>4</th>\n",
              "      <th>5</th>\n",
              "      <th>6</th>\n",
              "      <th>7</th>\n",
              "      <th>8</th>\n",
              "      <th>9</th>\n",
              "      <th>10</th>\n",
              "      <th>11</th>\n",
              "      <th>12</th>\n",
              "      <th>13</th>\n",
              "      <th>14</th>\n",
              "      <th>15</th>\n",
              "      <th>16</th>\n",
              "      <th>17</th>\n",
              "      <th>18</th>\n",
              "      <th>19</th>\n",
              "      <th>20</th>\n",
              "      <th>21</th>\n",
              "      <th>22</th>\n",
              "      <th>23</th>\n",
              "      <th>24</th>\n",
              "      <th>25</th>\n",
              "      <th>26</th>\n",
              "      <th>27</th>\n",
              "      <th>28</th>\n",
              "      <th>29</th>\n",
              "      <th>30</th>\n",
              "      <th>31</th>\n",
              "      <th>32</th>\n",
              "      <th>33</th>\n",
              "      <th>34</th>\n",
              "      <th>35</th>\n",
              "      <th>36</th>\n",
              "      <th>37</th>\n",
              "      <th>38</th>\n",
              "      <th>...</th>\n",
              "      <th>745</th>\n",
              "      <th>746</th>\n",
              "      <th>747</th>\n",
              "      <th>748</th>\n",
              "      <th>749</th>\n",
              "      <th>750</th>\n",
              "      <th>751</th>\n",
              "      <th>752</th>\n",
              "      <th>753</th>\n",
              "      <th>754</th>\n",
              "      <th>755</th>\n",
              "      <th>756</th>\n",
              "      <th>757</th>\n",
              "      <th>758</th>\n",
              "      <th>759</th>\n",
              "      <th>760</th>\n",
              "      <th>761</th>\n",
              "      <th>762</th>\n",
              "      <th>763</th>\n",
              "      <th>764</th>\n",
              "      <th>765</th>\n",
              "      <th>766</th>\n",
              "      <th>767</th>\n",
              "      <th>768</th>\n",
              "      <th>769</th>\n",
              "      <th>770</th>\n",
              "      <th>771</th>\n",
              "      <th>772</th>\n",
              "      <th>773</th>\n",
              "      <th>774</th>\n",
              "      <th>775</th>\n",
              "      <th>776</th>\n",
              "      <th>777</th>\n",
              "      <th>778</th>\n",
              "      <th>779</th>\n",
              "      <th>780</th>\n",
              "      <th>781</th>\n",
              "      <th>782</th>\n",
              "      <th>783</th>\n",
              "      <th>Labels</th>\n",
              "    </tr>\n",
              "  </thead>\n",
              "  <tbody>\n",
              "    <tr>\n",
              "      <th>0</th>\n",
              "      <td>0</td>\n",
              "      <td>78</td>\n",
              "      <td>76</td>\n",
              "      <td>87</td>\n",
              "      <td>101</td>\n",
              "      <td>127</td>\n",
              "      <td>127</td>\n",
              "      <td>136</td>\n",
              "      <td>165</td>\n",
              "      <td>247</td>\n",
              "      <td>248</td>\n",
              "      <td>243</td>\n",
              "      <td>206</td>\n",
              "      <td>138</td>\n",
              "      <td>141</td>\n",
              "      <td>177</td>\n",
              "      <td>219</td>\n",
              "      <td>245</td>\n",
              "      <td>236</td>\n",
              "      <td>202</td>\n",
              "      <td>152</td>\n",
              "      <td>95</td>\n",
              "      <td>93</td>\n",
              "      <td>108</td>\n",
              "      <td>95</td>\n",
              "      <td>79</td>\n",
              "      <td>73</td>\n",
              "      <td>69</td>\n",
              "      <td>68</td>\n",
              "      <td>84</td>\n",
              "      <td>81</td>\n",
              "      <td>90</td>\n",
              "      <td>123</td>\n",
              "      <td>144</td>\n",
              "      <td>97</td>\n",
              "      <td>125</td>\n",
              "      <td>212</td>\n",
              "      <td>254</td>\n",
              "      <td>254</td>\n",
              "      <td>236</td>\n",
              "      <td>...</td>\n",
              "      <td>129</td>\n",
              "      <td>165</td>\n",
              "      <td>129</td>\n",
              "      <td>99</td>\n",
              "      <td>92</td>\n",
              "      <td>79</td>\n",
              "      <td>72</td>\n",
              "      <td>89</td>\n",
              "      <td>100</td>\n",
              "      <td>111</td>\n",
              "      <td>102</td>\n",
              "      <td>85</td>\n",
              "      <td>98</td>\n",
              "      <td>69</td>\n",
              "      <td>68</td>\n",
              "      <td>68</td>\n",
              "      <td>82</td>\n",
              "      <td>93</td>\n",
              "      <td>86</td>\n",
              "      <td>84</td>\n",
              "      <td>95</td>\n",
              "      <td>93</td>\n",
              "      <td>80</td>\n",
              "      <td>75</td>\n",
              "      <td>107</td>\n",
              "      <td>149</td>\n",
              "      <td>111</td>\n",
              "      <td>92</td>\n",
              "      <td>129</td>\n",
              "      <td>161</td>\n",
              "      <td>125</td>\n",
              "      <td>95</td>\n",
              "      <td>97</td>\n",
              "      <td>87</td>\n",
              "      <td>73</td>\n",
              "      <td>79</td>\n",
              "      <td>100</td>\n",
              "      <td>102</td>\n",
              "      <td>94</td>\n",
              "      <td>0</td>\n",
              "    </tr>\n",
              "    <tr>\n",
              "      <th>1</th>\n",
              "      <td>0</td>\n",
              "      <td>72</td>\n",
              "      <td>78</td>\n",
              "      <td>76</td>\n",
              "      <td>77</td>\n",
              "      <td>119</td>\n",
              "      <td>147</td>\n",
              "      <td>96</td>\n",
              "      <td>132</td>\n",
              "      <td>235</td>\n",
              "      <td>252</td>\n",
              "      <td>251</td>\n",
              "      <td>220</td>\n",
              "      <td>163</td>\n",
              "      <td>169</td>\n",
              "      <td>191</td>\n",
              "      <td>172</td>\n",
              "      <td>211</td>\n",
              "      <td>240</td>\n",
              "      <td>237</td>\n",
              "      <td>219</td>\n",
              "      <td>177</td>\n",
              "      <td>103</td>\n",
              "      <td>87</td>\n",
              "      <td>113</td>\n",
              "      <td>102</td>\n",
              "      <td>81</td>\n",
              "      <td>75</td>\n",
              "      <td>68</td>\n",
              "      <td>68</td>\n",
              "      <td>76</td>\n",
              "      <td>83</td>\n",
              "      <td>93</td>\n",
              "      <td>123</td>\n",
              "      <td>110</td>\n",
              "      <td>104</td>\n",
              "      <td>188</td>\n",
              "      <td>251</td>\n",
              "      <td>250</td>\n",
              "      <td>246</td>\n",
              "      <td>...</td>\n",
              "      <td>104</td>\n",
              "      <td>97</td>\n",
              "      <td>138</td>\n",
              "      <td>137</td>\n",
              "      <td>106</td>\n",
              "      <td>94</td>\n",
              "      <td>81</td>\n",
              "      <td>70</td>\n",
              "      <td>78</td>\n",
              "      <td>91</td>\n",
              "      <td>107</td>\n",
              "      <td>73</td>\n",
              "      <td>84</td>\n",
              "      <td>91</td>\n",
              "      <td>75</td>\n",
              "      <td>65</td>\n",
              "      <td>70</td>\n",
              "      <td>73</td>\n",
              "      <td>83</td>\n",
              "      <td>86</td>\n",
              "      <td>82</td>\n",
              "      <td>86</td>\n",
              "      <td>95</td>\n",
              "      <td>87</td>\n",
              "      <td>74</td>\n",
              "      <td>111</td>\n",
              "      <td>143</td>\n",
              "      <td>105</td>\n",
              "      <td>95</td>\n",
              "      <td>109</td>\n",
              "      <td>147</td>\n",
              "      <td>131</td>\n",
              "      <td>106</td>\n",
              "      <td>95</td>\n",
              "      <td>89</td>\n",
              "      <td>71</td>\n",
              "      <td>71</td>\n",
              "      <td>100</td>\n",
              "      <td>104</td>\n",
              "      <td>0</td>\n",
              "    </tr>\n",
              "    <tr>\n",
              "      <th>2</th>\n",
              "      <td>0</td>\n",
              "      <td>72</td>\n",
              "      <td>78</td>\n",
              "      <td>79</td>\n",
              "      <td>111</td>\n",
              "      <td>121</td>\n",
              "      <td>94</td>\n",
              "      <td>162</td>\n",
              "      <td>234</td>\n",
              "      <td>249</td>\n",
              "      <td>248</td>\n",
              "      <td>241</td>\n",
              "      <td>167</td>\n",
              "      <td>153</td>\n",
              "      <td>220</td>\n",
              "      <td>182</td>\n",
              "      <td>158</td>\n",
              "      <td>213</td>\n",
              "      <td>235</td>\n",
              "      <td>234</td>\n",
              "      <td>226</td>\n",
              "      <td>180</td>\n",
              "      <td>97</td>\n",
              "      <td>87</td>\n",
              "      <td>118</td>\n",
              "      <td>105</td>\n",
              "      <td>82</td>\n",
              "      <td>76</td>\n",
              "      <td>67</td>\n",
              "      <td>67</td>\n",
              "      <td>74</td>\n",
              "      <td>98</td>\n",
              "      <td>135</td>\n",
              "      <td>111</td>\n",
              "      <td>105</td>\n",
              "      <td>191</td>\n",
              "      <td>250</td>\n",
              "      <td>247</td>\n",
              "      <td>251</td>\n",
              "      <td>210</td>\n",
              "      <td>...</td>\n",
              "      <td>100</td>\n",
              "      <td>102</td>\n",
              "      <td>114</td>\n",
              "      <td>128</td>\n",
              "      <td>112</td>\n",
              "      <td>95</td>\n",
              "      <td>89</td>\n",
              "      <td>70</td>\n",
              "      <td>70</td>\n",
              "      <td>78</td>\n",
              "      <td>91</td>\n",
              "      <td>78</td>\n",
              "      <td>89</td>\n",
              "      <td>95</td>\n",
              "      <td>75</td>\n",
              "      <td>65</td>\n",
              "      <td>69</td>\n",
              "      <td>71</td>\n",
              "      <td>75</td>\n",
              "      <td>80</td>\n",
              "      <td>79</td>\n",
              "      <td>83</td>\n",
              "      <td>91</td>\n",
              "      <td>89</td>\n",
              "      <td>84</td>\n",
              "      <td>137</td>\n",
              "      <td>129</td>\n",
              "      <td>92</td>\n",
              "      <td>101</td>\n",
              "      <td>94</td>\n",
              "      <td>115</td>\n",
              "      <td>150</td>\n",
              "      <td>121</td>\n",
              "      <td>93</td>\n",
              "      <td>90</td>\n",
              "      <td>74</td>\n",
              "      <td>70</td>\n",
              "      <td>80</td>\n",
              "      <td>96</td>\n",
              "      <td>0</td>\n",
              "    </tr>\n",
              "    <tr>\n",
              "      <th>3</th>\n",
              "      <td>0</td>\n",
              "      <td>68</td>\n",
              "      <td>74</td>\n",
              "      <td>92</td>\n",
              "      <td>128</td>\n",
              "      <td>104</td>\n",
              "      <td>105</td>\n",
              "      <td>205</td>\n",
              "      <td>249</td>\n",
              "      <td>250</td>\n",
              "      <td>249</td>\n",
              "      <td>216</td>\n",
              "      <td>138</td>\n",
              "      <td>185</td>\n",
              "      <td>243</td>\n",
              "      <td>198</td>\n",
              "      <td>129</td>\n",
              "      <td>202</td>\n",
              "      <td>243</td>\n",
              "      <td>237</td>\n",
              "      <td>235</td>\n",
              "      <td>165</td>\n",
              "      <td>108</td>\n",
              "      <td>105</td>\n",
              "      <td>99</td>\n",
              "      <td>100</td>\n",
              "      <td>91</td>\n",
              "      <td>76</td>\n",
              "      <td>68</td>\n",
              "      <td>65</td>\n",
              "      <td>71</td>\n",
              "      <td>107</td>\n",
              "      <td>131</td>\n",
              "      <td>95</td>\n",
              "      <td>136</td>\n",
              "      <td>227</td>\n",
              "      <td>255</td>\n",
              "      <td>255</td>\n",
              "      <td>249</td>\n",
              "      <td>184</td>\n",
              "      <td>...</td>\n",
              "      <td>85</td>\n",
              "      <td>99</td>\n",
              "      <td>101</td>\n",
              "      <td>107</td>\n",
              "      <td>130</td>\n",
              "      <td>102</td>\n",
              "      <td>95</td>\n",
              "      <td>78</td>\n",
              "      <td>65</td>\n",
              "      <td>71</td>\n",
              "      <td>84</td>\n",
              "      <td>77</td>\n",
              "      <td>75</td>\n",
              "      <td>88</td>\n",
              "      <td>87</td>\n",
              "      <td>66</td>\n",
              "      <td>64</td>\n",
              "      <td>64</td>\n",
              "      <td>66</td>\n",
              "      <td>73</td>\n",
              "      <td>80</td>\n",
              "      <td>81</td>\n",
              "      <td>84</td>\n",
              "      <td>87</td>\n",
              "      <td>92</td>\n",
              "      <td>131</td>\n",
              "      <td>130</td>\n",
              "      <td>94</td>\n",
              "      <td>91</td>\n",
              "      <td>95</td>\n",
              "      <td>89</td>\n",
              "      <td>133</td>\n",
              "      <td>151</td>\n",
              "      <td>105</td>\n",
              "      <td>87</td>\n",
              "      <td>80</td>\n",
              "      <td>69</td>\n",
              "      <td>71</td>\n",
              "      <td>89</td>\n",
              "      <td>0</td>\n",
              "    </tr>\n",
              "    <tr>\n",
              "      <th>4</th>\n",
              "      <td>0</td>\n",
              "      <td>72</td>\n",
              "      <td>72</td>\n",
              "      <td>74</td>\n",
              "      <td>110</td>\n",
              "      <td>121</td>\n",
              "      <td>91</td>\n",
              "      <td>141</td>\n",
              "      <td>217</td>\n",
              "      <td>248</td>\n",
              "      <td>241</td>\n",
              "      <td>241</td>\n",
              "      <td>189</td>\n",
              "      <td>126</td>\n",
              "      <td>141</td>\n",
              "      <td>130</td>\n",
              "      <td>166</td>\n",
              "      <td>235</td>\n",
              "      <td>233</td>\n",
              "      <td>229</td>\n",
              "      <td>215</td>\n",
              "      <td>166</td>\n",
              "      <td>92</td>\n",
              "      <td>88</td>\n",
              "      <td>120</td>\n",
              "      <td>100</td>\n",
              "      <td>80</td>\n",
              "      <td>80</td>\n",
              "      <td>78</td>\n",
              "      <td>68</td>\n",
              "      <td>72</td>\n",
              "      <td>92</td>\n",
              "      <td>138</td>\n",
              "      <td>110</td>\n",
              "      <td>91</td>\n",
              "      <td>174</td>\n",
              "      <td>245</td>\n",
              "      <td>246</td>\n",
              "      <td>242</td>\n",
              "      <td>233</td>\n",
              "      <td>...</td>\n",
              "      <td>120</td>\n",
              "      <td>122</td>\n",
              "      <td>119</td>\n",
              "      <td>117</td>\n",
              "      <td>105</td>\n",
              "      <td>94</td>\n",
              "      <td>97</td>\n",
              "      <td>94</td>\n",
              "      <td>76</td>\n",
              "      <td>68</td>\n",
              "      <td>76</td>\n",
              "      <td>140</td>\n",
              "      <td>133</td>\n",
              "      <td>129</td>\n",
              "      <td>129</td>\n",
              "      <td>122</td>\n",
              "      <td>125</td>\n",
              "      <td>134</td>\n",
              "      <td>134</td>\n",
              "      <td>127</td>\n",
              "      <td>124</td>\n",
              "      <td>121</td>\n",
              "      <td>116</td>\n",
              "      <td>114</td>\n",
              "      <td>114</td>\n",
              "      <td>137</td>\n",
              "      <td>139</td>\n",
              "      <td>100</td>\n",
              "      <td>92</td>\n",
              "      <td>96</td>\n",
              "      <td>92</td>\n",
              "      <td>113</td>\n",
              "      <td>108</td>\n",
              "      <td>100</td>\n",
              "      <td>99</td>\n",
              "      <td>101</td>\n",
              "      <td>86</td>\n",
              "      <td>65</td>\n",
              "      <td>71</td>\n",
              "      <td>0</td>\n",
              "    </tr>\n",
              "  </tbody>\n",
              "</table>\n",
              "<p>5 rows × 786 columns</p>\n",
              "</div>"
            ],
            "text/plain": [
              "   Unnamed: 0   0   1   2    3    4    5  ...  778  779  780  781  782  783  Labels\n",
              "0           0  78  76  87  101  127  127  ...   87   73   79  100  102   94       0\n",
              "1           0  72  78  76   77  119  147  ...   95   89   71   71  100  104       0\n",
              "2           0  72  78  79  111  121   94  ...   93   90   74   70   80   96       0\n",
              "3           0  68  74  92  128  104  105  ...  105   87   80   69   71   89       0\n",
              "4           0  72  72  74  110  121   91  ...  100   99  101   86   65   71       0\n",
              "\n",
              "[5 rows x 786 columns]"
            ]
          },
          "metadata": {
            "tags": []
          },
          "execution_count": 6
        }
      ]
    },
    {
      "cell_type": "code",
      "metadata": {
        "id": "TeVlHIBPu6om"
      },
      "source": [
        "# seperate the independant and the dependant variables \n",
        "x=df.drop('Labels',axis=1)\n",
        "y=df.Labels"
      ],
      "execution_count": null,
      "outputs": []
    },
    {
      "cell_type": "code",
      "metadata": {
        "id": "aj0Mr44avhmu",
        "colab": {
          "base_uri": "https://localhost:8080/",
          "height": 270
        },
        "outputId": "dfef8bf8-cc01-435a-fc2c-c569b4eb417d"
      },
      "source": [
        "# print first 5 rows to check the variables in the dataframe\n",
        "x.head()"
      ],
      "execution_count": null,
      "outputs": [
        {
          "output_type": "execute_result",
          "data": {
            "text/html": [
              "<div>\n",
              "<style scoped>\n",
              "    .dataframe tbody tr th:only-of-type {\n",
              "        vertical-align: middle;\n",
              "    }\n",
              "\n",
              "    .dataframe tbody tr th {\n",
              "        vertical-align: top;\n",
              "    }\n",
              "\n",
              "    .dataframe thead th {\n",
              "        text-align: right;\n",
              "    }\n",
              "</style>\n",
              "<table border=\"1\" class=\"dataframe\">\n",
              "  <thead>\n",
              "    <tr style=\"text-align: right;\">\n",
              "      <th></th>\n",
              "      <th>Unnamed: 0</th>\n",
              "      <th>0</th>\n",
              "      <th>1</th>\n",
              "      <th>2</th>\n",
              "      <th>3</th>\n",
              "      <th>4</th>\n",
              "      <th>5</th>\n",
              "      <th>6</th>\n",
              "      <th>7</th>\n",
              "      <th>8</th>\n",
              "      <th>9</th>\n",
              "      <th>10</th>\n",
              "      <th>11</th>\n",
              "      <th>12</th>\n",
              "      <th>13</th>\n",
              "      <th>14</th>\n",
              "      <th>15</th>\n",
              "      <th>16</th>\n",
              "      <th>17</th>\n",
              "      <th>18</th>\n",
              "      <th>19</th>\n",
              "      <th>20</th>\n",
              "      <th>21</th>\n",
              "      <th>22</th>\n",
              "      <th>23</th>\n",
              "      <th>24</th>\n",
              "      <th>25</th>\n",
              "      <th>26</th>\n",
              "      <th>27</th>\n",
              "      <th>28</th>\n",
              "      <th>29</th>\n",
              "      <th>30</th>\n",
              "      <th>31</th>\n",
              "      <th>32</th>\n",
              "      <th>33</th>\n",
              "      <th>34</th>\n",
              "      <th>35</th>\n",
              "      <th>36</th>\n",
              "      <th>37</th>\n",
              "      <th>38</th>\n",
              "      <th>...</th>\n",
              "      <th>744</th>\n",
              "      <th>745</th>\n",
              "      <th>746</th>\n",
              "      <th>747</th>\n",
              "      <th>748</th>\n",
              "      <th>749</th>\n",
              "      <th>750</th>\n",
              "      <th>751</th>\n",
              "      <th>752</th>\n",
              "      <th>753</th>\n",
              "      <th>754</th>\n",
              "      <th>755</th>\n",
              "      <th>756</th>\n",
              "      <th>757</th>\n",
              "      <th>758</th>\n",
              "      <th>759</th>\n",
              "      <th>760</th>\n",
              "      <th>761</th>\n",
              "      <th>762</th>\n",
              "      <th>763</th>\n",
              "      <th>764</th>\n",
              "      <th>765</th>\n",
              "      <th>766</th>\n",
              "      <th>767</th>\n",
              "      <th>768</th>\n",
              "      <th>769</th>\n",
              "      <th>770</th>\n",
              "      <th>771</th>\n",
              "      <th>772</th>\n",
              "      <th>773</th>\n",
              "      <th>774</th>\n",
              "      <th>775</th>\n",
              "      <th>776</th>\n",
              "      <th>777</th>\n",
              "      <th>778</th>\n",
              "      <th>779</th>\n",
              "      <th>780</th>\n",
              "      <th>781</th>\n",
              "      <th>782</th>\n",
              "      <th>783</th>\n",
              "    </tr>\n",
              "  </thead>\n",
              "  <tbody>\n",
              "    <tr>\n",
              "      <th>0</th>\n",
              "      <td>0</td>\n",
              "      <td>78</td>\n",
              "      <td>76</td>\n",
              "      <td>87</td>\n",
              "      <td>101</td>\n",
              "      <td>127</td>\n",
              "      <td>127</td>\n",
              "      <td>136</td>\n",
              "      <td>165</td>\n",
              "      <td>247</td>\n",
              "      <td>248</td>\n",
              "      <td>243</td>\n",
              "      <td>206</td>\n",
              "      <td>138</td>\n",
              "      <td>141</td>\n",
              "      <td>177</td>\n",
              "      <td>219</td>\n",
              "      <td>245</td>\n",
              "      <td>236</td>\n",
              "      <td>202</td>\n",
              "      <td>152</td>\n",
              "      <td>95</td>\n",
              "      <td>93</td>\n",
              "      <td>108</td>\n",
              "      <td>95</td>\n",
              "      <td>79</td>\n",
              "      <td>73</td>\n",
              "      <td>69</td>\n",
              "      <td>68</td>\n",
              "      <td>84</td>\n",
              "      <td>81</td>\n",
              "      <td>90</td>\n",
              "      <td>123</td>\n",
              "      <td>144</td>\n",
              "      <td>97</td>\n",
              "      <td>125</td>\n",
              "      <td>212</td>\n",
              "      <td>254</td>\n",
              "      <td>254</td>\n",
              "      <td>236</td>\n",
              "      <td>...</td>\n",
              "      <td>97</td>\n",
              "      <td>129</td>\n",
              "      <td>165</td>\n",
              "      <td>129</td>\n",
              "      <td>99</td>\n",
              "      <td>92</td>\n",
              "      <td>79</td>\n",
              "      <td>72</td>\n",
              "      <td>89</td>\n",
              "      <td>100</td>\n",
              "      <td>111</td>\n",
              "      <td>102</td>\n",
              "      <td>85</td>\n",
              "      <td>98</td>\n",
              "      <td>69</td>\n",
              "      <td>68</td>\n",
              "      <td>68</td>\n",
              "      <td>82</td>\n",
              "      <td>93</td>\n",
              "      <td>86</td>\n",
              "      <td>84</td>\n",
              "      <td>95</td>\n",
              "      <td>93</td>\n",
              "      <td>80</td>\n",
              "      <td>75</td>\n",
              "      <td>107</td>\n",
              "      <td>149</td>\n",
              "      <td>111</td>\n",
              "      <td>92</td>\n",
              "      <td>129</td>\n",
              "      <td>161</td>\n",
              "      <td>125</td>\n",
              "      <td>95</td>\n",
              "      <td>97</td>\n",
              "      <td>87</td>\n",
              "      <td>73</td>\n",
              "      <td>79</td>\n",
              "      <td>100</td>\n",
              "      <td>102</td>\n",
              "      <td>94</td>\n",
              "    </tr>\n",
              "    <tr>\n",
              "      <th>1</th>\n",
              "      <td>0</td>\n",
              "      <td>72</td>\n",
              "      <td>78</td>\n",
              "      <td>76</td>\n",
              "      <td>77</td>\n",
              "      <td>119</td>\n",
              "      <td>147</td>\n",
              "      <td>96</td>\n",
              "      <td>132</td>\n",
              "      <td>235</td>\n",
              "      <td>252</td>\n",
              "      <td>251</td>\n",
              "      <td>220</td>\n",
              "      <td>163</td>\n",
              "      <td>169</td>\n",
              "      <td>191</td>\n",
              "      <td>172</td>\n",
              "      <td>211</td>\n",
              "      <td>240</td>\n",
              "      <td>237</td>\n",
              "      <td>219</td>\n",
              "      <td>177</td>\n",
              "      <td>103</td>\n",
              "      <td>87</td>\n",
              "      <td>113</td>\n",
              "      <td>102</td>\n",
              "      <td>81</td>\n",
              "      <td>75</td>\n",
              "      <td>68</td>\n",
              "      <td>68</td>\n",
              "      <td>76</td>\n",
              "      <td>83</td>\n",
              "      <td>93</td>\n",
              "      <td>123</td>\n",
              "      <td>110</td>\n",
              "      <td>104</td>\n",
              "      <td>188</td>\n",
              "      <td>251</td>\n",
              "      <td>250</td>\n",
              "      <td>246</td>\n",
              "      <td>...</td>\n",
              "      <td>108</td>\n",
              "      <td>104</td>\n",
              "      <td>97</td>\n",
              "      <td>138</td>\n",
              "      <td>137</td>\n",
              "      <td>106</td>\n",
              "      <td>94</td>\n",
              "      <td>81</td>\n",
              "      <td>70</td>\n",
              "      <td>78</td>\n",
              "      <td>91</td>\n",
              "      <td>107</td>\n",
              "      <td>73</td>\n",
              "      <td>84</td>\n",
              "      <td>91</td>\n",
              "      <td>75</td>\n",
              "      <td>65</td>\n",
              "      <td>70</td>\n",
              "      <td>73</td>\n",
              "      <td>83</td>\n",
              "      <td>86</td>\n",
              "      <td>82</td>\n",
              "      <td>86</td>\n",
              "      <td>95</td>\n",
              "      <td>87</td>\n",
              "      <td>74</td>\n",
              "      <td>111</td>\n",
              "      <td>143</td>\n",
              "      <td>105</td>\n",
              "      <td>95</td>\n",
              "      <td>109</td>\n",
              "      <td>147</td>\n",
              "      <td>131</td>\n",
              "      <td>106</td>\n",
              "      <td>95</td>\n",
              "      <td>89</td>\n",
              "      <td>71</td>\n",
              "      <td>71</td>\n",
              "      <td>100</td>\n",
              "      <td>104</td>\n",
              "    </tr>\n",
              "    <tr>\n",
              "      <th>2</th>\n",
              "      <td>0</td>\n",
              "      <td>72</td>\n",
              "      <td>78</td>\n",
              "      <td>79</td>\n",
              "      <td>111</td>\n",
              "      <td>121</td>\n",
              "      <td>94</td>\n",
              "      <td>162</td>\n",
              "      <td>234</td>\n",
              "      <td>249</td>\n",
              "      <td>248</td>\n",
              "      <td>241</td>\n",
              "      <td>167</td>\n",
              "      <td>153</td>\n",
              "      <td>220</td>\n",
              "      <td>182</td>\n",
              "      <td>158</td>\n",
              "      <td>213</td>\n",
              "      <td>235</td>\n",
              "      <td>234</td>\n",
              "      <td>226</td>\n",
              "      <td>180</td>\n",
              "      <td>97</td>\n",
              "      <td>87</td>\n",
              "      <td>118</td>\n",
              "      <td>105</td>\n",
              "      <td>82</td>\n",
              "      <td>76</td>\n",
              "      <td>67</td>\n",
              "      <td>67</td>\n",
              "      <td>74</td>\n",
              "      <td>98</td>\n",
              "      <td>135</td>\n",
              "      <td>111</td>\n",
              "      <td>105</td>\n",
              "      <td>191</td>\n",
              "      <td>250</td>\n",
              "      <td>247</td>\n",
              "      <td>251</td>\n",
              "      <td>210</td>\n",
              "      <td>...</td>\n",
              "      <td>90</td>\n",
              "      <td>100</td>\n",
              "      <td>102</td>\n",
              "      <td>114</td>\n",
              "      <td>128</td>\n",
              "      <td>112</td>\n",
              "      <td>95</td>\n",
              "      <td>89</td>\n",
              "      <td>70</td>\n",
              "      <td>70</td>\n",
              "      <td>78</td>\n",
              "      <td>91</td>\n",
              "      <td>78</td>\n",
              "      <td>89</td>\n",
              "      <td>95</td>\n",
              "      <td>75</td>\n",
              "      <td>65</td>\n",
              "      <td>69</td>\n",
              "      <td>71</td>\n",
              "      <td>75</td>\n",
              "      <td>80</td>\n",
              "      <td>79</td>\n",
              "      <td>83</td>\n",
              "      <td>91</td>\n",
              "      <td>89</td>\n",
              "      <td>84</td>\n",
              "      <td>137</td>\n",
              "      <td>129</td>\n",
              "      <td>92</td>\n",
              "      <td>101</td>\n",
              "      <td>94</td>\n",
              "      <td>115</td>\n",
              "      <td>150</td>\n",
              "      <td>121</td>\n",
              "      <td>93</td>\n",
              "      <td>90</td>\n",
              "      <td>74</td>\n",
              "      <td>70</td>\n",
              "      <td>80</td>\n",
              "      <td>96</td>\n",
              "    </tr>\n",
              "    <tr>\n",
              "      <th>3</th>\n",
              "      <td>0</td>\n",
              "      <td>68</td>\n",
              "      <td>74</td>\n",
              "      <td>92</td>\n",
              "      <td>128</td>\n",
              "      <td>104</td>\n",
              "      <td>105</td>\n",
              "      <td>205</td>\n",
              "      <td>249</td>\n",
              "      <td>250</td>\n",
              "      <td>249</td>\n",
              "      <td>216</td>\n",
              "      <td>138</td>\n",
              "      <td>185</td>\n",
              "      <td>243</td>\n",
              "      <td>198</td>\n",
              "      <td>129</td>\n",
              "      <td>202</td>\n",
              "      <td>243</td>\n",
              "      <td>237</td>\n",
              "      <td>235</td>\n",
              "      <td>165</td>\n",
              "      <td>108</td>\n",
              "      <td>105</td>\n",
              "      <td>99</td>\n",
              "      <td>100</td>\n",
              "      <td>91</td>\n",
              "      <td>76</td>\n",
              "      <td>68</td>\n",
              "      <td>65</td>\n",
              "      <td>71</td>\n",
              "      <td>107</td>\n",
              "      <td>131</td>\n",
              "      <td>95</td>\n",
              "      <td>136</td>\n",
              "      <td>227</td>\n",
              "      <td>255</td>\n",
              "      <td>255</td>\n",
              "      <td>249</td>\n",
              "      <td>184</td>\n",
              "      <td>...</td>\n",
              "      <td>87</td>\n",
              "      <td>85</td>\n",
              "      <td>99</td>\n",
              "      <td>101</td>\n",
              "      <td>107</td>\n",
              "      <td>130</td>\n",
              "      <td>102</td>\n",
              "      <td>95</td>\n",
              "      <td>78</td>\n",
              "      <td>65</td>\n",
              "      <td>71</td>\n",
              "      <td>84</td>\n",
              "      <td>77</td>\n",
              "      <td>75</td>\n",
              "      <td>88</td>\n",
              "      <td>87</td>\n",
              "      <td>66</td>\n",
              "      <td>64</td>\n",
              "      <td>64</td>\n",
              "      <td>66</td>\n",
              "      <td>73</td>\n",
              "      <td>80</td>\n",
              "      <td>81</td>\n",
              "      <td>84</td>\n",
              "      <td>87</td>\n",
              "      <td>92</td>\n",
              "      <td>131</td>\n",
              "      <td>130</td>\n",
              "      <td>94</td>\n",
              "      <td>91</td>\n",
              "      <td>95</td>\n",
              "      <td>89</td>\n",
              "      <td>133</td>\n",
              "      <td>151</td>\n",
              "      <td>105</td>\n",
              "      <td>87</td>\n",
              "      <td>80</td>\n",
              "      <td>69</td>\n",
              "      <td>71</td>\n",
              "      <td>89</td>\n",
              "    </tr>\n",
              "    <tr>\n",
              "      <th>4</th>\n",
              "      <td>0</td>\n",
              "      <td>72</td>\n",
              "      <td>72</td>\n",
              "      <td>74</td>\n",
              "      <td>110</td>\n",
              "      <td>121</td>\n",
              "      <td>91</td>\n",
              "      <td>141</td>\n",
              "      <td>217</td>\n",
              "      <td>248</td>\n",
              "      <td>241</td>\n",
              "      <td>241</td>\n",
              "      <td>189</td>\n",
              "      <td>126</td>\n",
              "      <td>141</td>\n",
              "      <td>130</td>\n",
              "      <td>166</td>\n",
              "      <td>235</td>\n",
              "      <td>233</td>\n",
              "      <td>229</td>\n",
              "      <td>215</td>\n",
              "      <td>166</td>\n",
              "      <td>92</td>\n",
              "      <td>88</td>\n",
              "      <td>120</td>\n",
              "      <td>100</td>\n",
              "      <td>80</td>\n",
              "      <td>80</td>\n",
              "      <td>78</td>\n",
              "      <td>68</td>\n",
              "      <td>72</td>\n",
              "      <td>92</td>\n",
              "      <td>138</td>\n",
              "      <td>110</td>\n",
              "      <td>91</td>\n",
              "      <td>174</td>\n",
              "      <td>245</td>\n",
              "      <td>246</td>\n",
              "      <td>242</td>\n",
              "      <td>233</td>\n",
              "      <td>...</td>\n",
              "      <td>114</td>\n",
              "      <td>120</td>\n",
              "      <td>122</td>\n",
              "      <td>119</td>\n",
              "      <td>117</td>\n",
              "      <td>105</td>\n",
              "      <td>94</td>\n",
              "      <td>97</td>\n",
              "      <td>94</td>\n",
              "      <td>76</td>\n",
              "      <td>68</td>\n",
              "      <td>76</td>\n",
              "      <td>140</td>\n",
              "      <td>133</td>\n",
              "      <td>129</td>\n",
              "      <td>129</td>\n",
              "      <td>122</td>\n",
              "      <td>125</td>\n",
              "      <td>134</td>\n",
              "      <td>134</td>\n",
              "      <td>127</td>\n",
              "      <td>124</td>\n",
              "      <td>121</td>\n",
              "      <td>116</td>\n",
              "      <td>114</td>\n",
              "      <td>114</td>\n",
              "      <td>137</td>\n",
              "      <td>139</td>\n",
              "      <td>100</td>\n",
              "      <td>92</td>\n",
              "      <td>96</td>\n",
              "      <td>92</td>\n",
              "      <td>113</td>\n",
              "      <td>108</td>\n",
              "      <td>100</td>\n",
              "      <td>99</td>\n",
              "      <td>101</td>\n",
              "      <td>86</td>\n",
              "      <td>65</td>\n",
              "      <td>71</td>\n",
              "    </tr>\n",
              "  </tbody>\n",
              "</table>\n",
              "<p>5 rows × 785 columns</p>\n",
              "</div>"
            ],
            "text/plain": [
              "   Unnamed: 0   0   1   2    3    4    5  ...  777  778  779  780  781  782  783\n",
              "0           0  78  76  87  101  127  127  ...   97   87   73   79  100  102   94\n",
              "1           0  72  78  76   77  119  147  ...  106   95   89   71   71  100  104\n",
              "2           0  72  78  79  111  121   94  ...  121   93   90   74   70   80   96\n",
              "3           0  68  74  92  128  104  105  ...  151  105   87   80   69   71   89\n",
              "4           0  72  72  74  110  121   91  ...  108  100   99  101   86   65   71\n",
              "\n",
              "[5 rows x 785 columns]"
            ]
          },
          "metadata": {
            "tags": []
          },
          "execution_count": 8
        }
      ]
    },
    {
      "cell_type": "code",
      "metadata": {
        "id": "7ULnbhPrvJqq"
      },
      "source": [
        "# Data preprocessing\n",
        "x /=255 #normalizing the values\n",
        "x.drop('Unnamed: 0',axis=1,inplace=True)  # drop unrequired columns\n",
        "x=np.array(x)# change the datatype from pandas series to numpy array\n",
        "x=x.reshape(x.shape[0],28,28,1)# reshape the image"
      ],
      "execution_count": null,
      "outputs": []
    },
    {
      "cell_type": "code",
      "metadata": {
        "id": "GBPipCVIw3Pa"
      },
      "source": [
        "# split the data into train and test ,train is for model training and test data can be used to evaluate correctness / performance of the model\n",
        "from sklearn.model_selection import train_test_split\n",
        "x_tr,x_te,y_tr,y_te=train_test_split(x,y,test_size=0.15,random_state=101)"
      ],
      "execution_count": null,
      "outputs": []
    },
    {
      "cell_type": "markdown",
      "metadata": {
        "id": "7TaPKbbUC0P_"
      },
      "source": [
        "## Visalizations on few images of traffic signs from the data"
      ]
    },
    {
      "cell_type": "code",
      "metadata": {
        "id": "beYBGy1CxkAI",
        "colab": {
          "base_uri": "https://localhost:8080/",
          "height": 265
        },
        "outputId": "d429f149-f688-4051-c9e6-edfc9e7f8594"
      },
      "source": [
        "plt.imshow(x[0].reshape(28,28));"
      ],
      "execution_count": null,
      "outputs": [
        {
          "output_type": "display_data",
          "data": {
            "image/png": "[encoded data removed]",
            "text/plain": [
              "<Figure size 432x288 with 1 Axes>"
            ]
          },
          "metadata": {
            "tags": [],
            "needs_background": "light"
          }
        }
      ]
    },
    {
      "cell_type": "code",
      "metadata": {
        "id": "pPGSY9Y_x9NO",
        "colab": {
          "base_uri": "https://localhost:8080/",
          "height": 265
        },
        "outputId": "799ff7dd-0d63-4755-8490-b6ced09afee5"
      },
      "source": [
        "plt.imshow(x[500].reshape(28,28));"
      ],
      "execution_count": null,
      "outputs": [
        {
          "output_type": "display_data",
          "data": {
            "image/png": "[encoded data removed]",
            "text/plain": [
              "<Figure size 432x288 with 1 Axes>"
            ]
          },
          "metadata": {
            "tags": [],
            "needs_background": "light"
          }
        }
      ]
    },
    {
      "cell_type": "code",
      "metadata": {
        "id": "U4ex-hYsyG0G",
        "colab": {
          "base_uri": "https://localhost:8080/",
          "height": 265
        },
        "outputId": "dc30c407-ab54-47bc-cad8-c2d483167db5"
      },
      "source": [
        "plt.imshow(x[2500].reshape(28,28));"
      ],
      "execution_count": null,
      "outputs": [
        {
          "output_type": "display_data",
          "data": {
            "image/png": "[encoded data removed]",
            "text/plain": [
              "<Figure size 432x288 with 1 Axes>"
            ]
          },
          "metadata": {
            "tags": [],
            "needs_background": "light"
          }
        }
      ]
    },
    {
      "cell_type": "code",
      "metadata": {
        "id": "hDDYRVGYyKw0"
      },
      "source": [
        "# Convert 1-dimensional class arrays to 43-dimensional class matrices\n",
        "y_tr = np_utils.to_categorical(y_tr, 43) # Converting the data into 0 and 1\n",
        "y_te = np_utils.to_categorical(y_te, 43) # Converting the data into 0 and 1"
      ],
      "execution_count": null,
      "outputs": []
    },
    {
      "cell_type": "markdown",
      "metadata": {
        "id": "GepZAvy6Ckx9"
      },
      "source": [
        "## Build CNN model"
      ]
    },
    {
      "cell_type": "markdown",
      "metadata": {
        "id": "fSKamsZUx9xm"
      },
      "source": [
        "# define the model architecture\n",
        "model=Sequential()\n",
        "      ############################Convolution network##################################\n",
        "model.add(Convolution2D(32,(3,3),activation='relu',input_shape=(1,28,28),data_format='channels_first'))# convolution layer\n",
        "      \n",
        "model.add(Convolution2D(32,(3,3),activation='relu'))#convolutionlayer\n",
        "model.add(MaxPooling2D(pool_size=(2,2)))# pooling layer\n",
        "model.add(Dropout(0.2))#dropot to handle overfitting\n",
        "\n",
        "\n",
        "model.add(Flatten())# image flattern to row matrix\n",
        "\n",
        "\n",
        "      ############################Feedforward network################################\n",
        "\n",
        "model.add(Dense(2048,activation='relu'))# input neurons\n",
        "model.add(Dropout(0.5)) # dropout to handle overfitting\n",
        "\n",
        "\n",
        "model.add(Dense(1024,activation='relu'))\n",
        "model.add(Dropout(0.5))\n",
        "\n",
        "model.add(Dense(512,activation='relu'))\n",
        "model.add(Dropout(0.5))\n",
        "\n",
        "model.add(Dense(43,activation='softmax'))\n",
        "  \n"
      ]
    },
    {
      "cell_type": "code",
      "metadata": {
        "id": "5xuXDV0xyuIx"
      },
      "source": [
        "IMG_SIZE=28"
      ],
      "execution_count": null,
      "outputs": []
    },
    {
      "cell_type": "code",
      "metadata": {
        "id": "0qZZpg8lx4Ma",
        "colab": {
          "base_uri": "https://localhost:8080/",
          "height": 122
        },
        "outputId": "570ebe7e-0a72-4ac8-a77c-1b0ff6883db4"
      },
      "source": [
        "inputs = Input(shape = (IMG_SIZE, IMG_SIZE,1))\n",
        "# input layer\n",
        "model = Conv2D(filters=32, kernel_size=(3, 3), padding='SAME', activation='relu', input_shape=(IMG_SIZE, IMG_SIZE,1))(inputs)\n",
        "# convolution layer\n",
        "model = Conv2D(filters=32, kernel_size=(3, 3), padding='SAME', activation='relu')(model)\n",
        "#Maxpool layer\n",
        "model = MaxPool2D(pool_size=(2, 2))(model)\n",
        "#drop out to minimise overfitting\n",
        "model = Dropout(rate=0.3)(model)\n",
        "#flatten layer\n",
        "model = Flatten()(model)\n",
        "#ANN model\n",
        "dense = Dense(2048, activation='relu')(model)\n",
        "model = Dropout(rate=0.5)(dense)\n",
        "dense = Dense(1024, activation='relu')(model)\n",
        "model = Dropout(rate=0.5)(dense)\n",
        "dense = Dense(512, activation='relu')(model)\n",
        "model = Dropout(rate=0.5)(dense)\n",
        "\n",
        "#dense = Dense(512, activation = \"relu\")(model)\n",
        "\n",
        "head_root = Dense(43, activation = 'softmax')(model)\n",
        "\n",
        "model = Model(inputs=inputs, outputs=head_root)"
      ],
      "execution_count": null,
      "outputs": [
        {
          "output_type": "stream",
          "text": [
            "WARNING:tensorflow:From /tensorflow-1.15.2/python3.6/tensorflow_core/python/ops/resource_variable_ops.py:1630: calling BaseResourceVariable.__init__ (from tensorflow.python.ops.resource_variable_ops) with constraint is deprecated and will be removed in a future version.\n",
            "Instructions for updating:\n",
            "If using Keras pass *_constraint arguments to layers.\n",
            "WARNING:tensorflow:From /tensorflow-1.15.2/python3.6/keras/backend/tensorflow_backend.py:4070: The name tf.nn.max_pool is deprecated. Please use tf.nn.max_pool2d instead.\n",
            "\n"
          ],
          "name": "stdout"
        }
      ]
    },
    {
      "cell_type": "code",
      "metadata": {
        "id": "L4POUScM3uwq"
      },
      "source": [
        "# compile the model using loss fnction, categorical cross entropy, Adam optimizer and accuracy metric\n",
        "model.compile(loss='categorical_crossentropy',\n",
        "              optimizer='adam',\n",
        "              metrics=['accuracy',])"
      ],
      "execution_count": null,
      "outputs": []
    },
    {
      "cell_type": "code",
      "metadata": {
        "id": "ZPCl2ckZ5Mbm",
        "colab": {
          "base_uri": "https://localhost:8080/",
          "height": 428
        },
        "outputId": "17b012f5-c8b2-4587-f140-a972f8ad995c"
      },
      "source": [
        "# fit the model with train data\n",
        "model.fit(x_tr,y_tr,batch_size=32,epochs=10,verbose=1)"
      ],
      "execution_count": null,
      "outputs": [
        {
          "output_type": "stream",
          "text": [
            "WARNING:tensorflow:From /tensorflow-1.15.2/python3.6/keras/backend/tensorflow_backend.py:422: The name tf.global_variables is deprecated. Please use tf.compat.v1.global_variables instead.\n",
            "\n",
            "Epoch 1/10\n",
            "33327/33327 [==============================] - 18s 532us/step - loss: 1.3019 - accuracy: 0.6192\n",
            "Epoch 2/10\n",
            "33327/33327 [==============================] - 15s 446us/step - loss: 0.2682 - accuracy: 0.9187\n",
            "Epoch 3/10\n",
            "33327/33327 [==============================] - 15s 450us/step - loss: 0.1659 - accuracy: 0.9511\n",
            "Epoch 4/10\n",
            "33327/33327 [==============================] - 15s 448us/step - loss: 0.1292 - accuracy: 0.9618\n",
            "Epoch 5/10\n",
            "33327/33327 [==============================] - 15s 447us/step - loss: 0.1137 - accuracy: 0.9674\n",
            "Epoch 6/10\n",
            "33327/33327 [==============================] - 15s 444us/step - loss: 0.1046 - accuracy: 0.9713\n",
            "Epoch 7/10\n",
            "33327/33327 [==============================] - 15s 445us/step - loss: 0.0930 - accuracy: 0.9732\n",
            "Epoch 8/10\n",
            "33327/33327 [==============================] - 15s 445us/step - loss: 0.0894 - accuracy: 0.9764\n",
            "Epoch 9/10\n",
            "33327/33327 [==============================] - 15s 443us/step - loss: 0.0822 - accuracy: 0.9782\n",
            "Epoch 10/10\n",
            "33327/33327 [==============================] - 15s 445us/step - loss: 0.0745 - accuracy: 0.9800\n"
          ],
          "name": "stdout"
        },
        {
          "output_type": "execute_result",
          "data": {
            "text/plain": [
              "<keras.callbacks.callbacks.History at 0x7f9159756da0>"
            ]
          },
          "metadata": {
            "tags": []
          },
          "execution_count": 16
        }
      ]
    },
    {
      "cell_type": "code",
      "metadata": {
        "id": "UO5QcULm5-qw",
        "colab": {
          "base_uri": "https://localhost:8080/",
          "height": 34
        },
        "outputId": "e8ada8b3-6859-475e-b182-278f72259e65"
      },
      "source": [
        "# model evaluation score[loss , accuracy]\n",
        "model.evaluate(x_te,y_te, verbose=0)"
      ],
      "execution_count": null,
      "outputs": [
        {
          "output_type": "execute_result",
          "data": {
            "text/plain": [
              "[0.033847022279190654, 0.9914994835853577]"
            ]
          },
          "metadata": {
            "tags": []
          },
          "execution_count": 17
        }
      ]
    },
    {
      "cell_type": "code",
      "metadata": {
        "id": "TcggzCE_kkDx"
      },
      "source": [
        "im=Image.open(r'C:\\Users\\yvdha\\projectt\\Train'+'\\\\'+str(p)+'\\\\'+q)# read iamge using PIL.Image\n",
        "im1 = im.resize((28,28),Image.ANTIALIAS)\n",
        "im1.save('test.jpg',optimize=True,quality=95)# save image in new loaction"
      ],
      "execution_count": null,
      "outputs": []
    },
    {
      "cell_type": "code",
      "metadata": {
        "id": "Wxcv_PxllHGn"
      },
      "source": [
        "import cv2"
      ],
      "execution_count": null,
      "outputs": []
    },
    {
      "cell_type": "code",
      "metadata": {
        "id": "hrP188Y4k-4Q"
      },
      "source": [
        "img=cv2.imread('test.jpg')\n",
        "plt.imshow(img)\n",
        "y=model.predict(img.reshape(1,28,28,1))\n",
        "print(ourtput[y.argmax()])"
      ],
      "execution_count": null,
      "outputs": []
    },
    {
      "cell_type": "code",
      "metadata": {
        "id": "2-jYYfw6gkGZ"
      },
      "source": [
        "import pickle"
      ],
      "execution_count": null,
      "outputs": []
    },
    {
      "cell_type": "code",
      "metadata": {
        "id": "op51gOLGgpk3"
      },
      "source": [
        "with open('model.pkl','wb') as file:\n",
        "  pickle.dump(model,file)"
      ],
      "execution_count": null,
      "outputs": []
    },
    {
      "cell_type": "code",
      "metadata": {
        "id": "-UmMX2URhFXM",
        "colab": {
          "base_uri": "https://localhost:8080/",
          "height": 34
        },
        "outputId": "c0f6f49d-e238-47bc-906f-5422b21b958a"
      },
      "source": [
        "from google.colab import files\n",
        "files.download('model.pkl')"
      ],
      "execution_count": null,
      "outputs": [
        {
          "output_type": "display_data",
          "data": {
            "application/javascript": [
              "\n",
              "    async function download(id, filename, size) {\n",
              "      if (!google.colab.kernel.accessAllowed) {\n",
              "        return;\n",
              "      }\n",
              "      const div = document.createElement('div');\n",
              "      const label = document.createElement('label');\n",
              "      label.textContent = `Downloading \"${filename}\": `;\n",
              "      div.appendChild(label);\n",
              "      const progress = document.createElement('progress');\n",
              "      progress.max = size;\n",
              "      div.appendChild(progress);\n",
              "      document.body.appendChild(div);\n",
              "\n",
              "      const buffers = [];\n",
              "      let downloaded = 0;\n",
              "\n",
              "      const channel = await google.colab.kernel.comms.open(id);\n",
              "      // Send a message to notify the kernel that we're ready.\n",
              "      channel.send({})\n",
              "\n",
              "      for await (const message of channel.messages) {\n",
              "        // Send a message to notify the kernel that we're ready.\n",
              "        channel.send({})\n",
              "        if (message.buffers) {\n",
              "          for (const buffer of message.buffers) {\n",
              "            buffers.push(buffer);\n",
              "            downloaded += buffer.byteLength;\n",
              "            progress.value = downloaded;\n",
              "          }\n",
              "        }\n",
              "      }\n",
              "      const blob = new Blob(buffers, {type: 'application/binary'});\n",
              "      const a = document.createElement('a');\n",
              "      a.href = window.URL.createObjectURL(blob);\n",
              "      a.download = filename;\n",
              "      div.appendChild(a);\n",
              "      a.click();\n",
              "      div.remove();\n",
              "    }\n",
              "  "
            ],
            "text/plain": [
              "<IPython.core.display.Javascript object>"
            ]
          },
          "metadata": {
            "tags": []
          }
        },
        {
          "output_type": "display_data",
          "data": {
            "application/javascript": [
              "download(\"download_4b613512-47e6-4329-8777-28daea6accc4\", \"model.pkl\", 186039421)"
            ],
            "text/plain": [
              "<IPython.core.display.Javascript object>"
            ]
          },
          "metadata": {
            "tags": []
          }
        }
      ]
    },
    {
      "cell_type": "code",
      "metadata": {
        "id": "cl0rZ0vogfSn"
      },
      "source": [
        "y=model.predict(x_tr[0].reshape(1,28,28,1))"
      ],
      "execution_count": null,
      "outputs": []
    },
    {
      "cell_type": "code",
      "metadata": {
        "id": "Zul1NP58UM4v",
        "colab": {
          "base_uri": "https://localhost:8080/",
          "height": 34
        },
        "outputId": "b413ac09-240a-4d95-c704-4d68201d8c53"
      },
      "source": [
        "y.argmax()  "
      ],
      "execution_count": null,
      "outputs": [
        {
          "output_type": "execute_result",
          "data": {
            "text/plain": [
              "23"
            ]
          },
          "metadata": {
            "tags": []
          },
          "execution_count": 42
        }
      ]
    },
    {
      "cell_type": "code",
      "metadata": {
        "id": "nwWbHVOwJ4q8"
      },
      "source": [
        "x_te[0].reshape(1,28,28,1)"
      ],
      "execution_count": null,
      "outputs": []
    },
    {
      "cell_type": "code",
      "metadata": {
        "id": "qX-paiCVKLWl",
        "colab": {
          "base_uri": "https://localhost:8080/",
          "height": 34
        },
        "outputId": "b4f46c00-41ab-4e8b-e29c-272dd9db55a4"
      },
      "source": [
        "x_tr[0].shape"
      ],
      "execution_count": null,
      "outputs": [
        {
          "output_type": "execute_result",
          "data": {
            "text/plain": [
              "(28, 28, 1)"
            ]
          },
          "metadata": {
            "tags": []
          },
          "execution_count": 30
        }
      ]
    },
    {
      "cell_type": "code",
      "metadata": {
        "id": "LNdMmdK2LT8B",
        "colab": {
          "base_uri": "https://localhost:8080/",
          "height": 34
        },
        "outputId": "5a40c9c3-a1a0-42be-bdae-c78ea1d8e616"
      },
      "source": [
        "y_tr[0].argmax()\n"
      ],
      "execution_count": null,
      "outputs": [
        {
          "output_type": "execute_result",
          "data": {
            "text/plain": [
              "23"
            ]
          },
          "metadata": {
            "tags": []
          },
          "execution_count": 44
        }
      ]
    },
    {
      "cell_type": "code",
      "metadata": {
        "id": "ehLWeUoDV6u0"
      },
      "source": [
        "ourtput=['speed limit of 20 Km/h','speed limit of 30 Km/h','speed limit of 50 Km/h','speed limit of 60 Km/h','speed limit of 70 Km/h','speed limit of 80 Km/h','speed limit of 90 Km/h',\n",
        "         'speed limit of 100 Km/h','speed limit of 120 Km/h','no overtaking','no overtaking for power driven vehicleswith permissible weight','indicates proirity only at the upcoming intersection',\n",
        "         'priority road starts','yield right-of-way','stop','no entry for any kind of vehicle','no entry for motor vehicles with a max authorized mass more than 3.5t','do not enter',\n",
        "         'general danger','curve for left direction','cure for right direction','double curve first left','rough road','danger of skidding or slipping','road narrows from the right side',\n",
        "         'work in progres','traffic light ahead','pedestriants may cross the road','pay attention to children','be aware of cyclist','be aware of an icy road','wild animals may cross the road',\n",
        "         'end of all previously set passing and speed restrictions','turn right','turn left','no turns are permitted','travel straight ahead or turn right','travel straight ahead or turn left','drive from rightof the obstacle',\n",
        "         'drive from left of the obstacle','entrance to a traffic circle','no passing zone for vehicles','overtaking restrictions']"
      ],
      "execution_count": null,
      "outputs": []
    },
    {
      "cell_type": "code",
      "metadata": {
        "id": "_DJ1GLS4j-Zp",
        "colab": {
          "base_uri": "https://localhost:8080/",
          "height": 34
        },
        "outputId": "c65a1c1c-abdc-4c83-ee76-1030cd000cfb"
      },
      "source": [
        "ourtput[]"
      ],
      "execution_count": null,
      "outputs": [
        {
          "output_type": "execute_result",
          "data": {
            "text/plain": [
              "'danger of sidding or slipping'"
            ]
          },
          "metadata": {
            "tags": []
          },
          "execution_count": 2
        }
      ]
    },
    {
      "cell_type": "code",
      "metadata": {
        "id": "rJK4S6KgkB7a"
      },
      "source": [
        ""
      ],
      "execution_count": null,
      "outputs": []
    }
  ]
}